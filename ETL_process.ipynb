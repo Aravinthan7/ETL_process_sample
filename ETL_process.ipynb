{
 "cells": [
  {
   "cell_type": "code",
   "execution_count": 2,
   "id": "de47bb1a-c35d-4cdb-a23b-b1f29ec182e5",
   "metadata": {},
   "outputs": [],
   "source": [
    "import pandas as pd\n",
    "import pymongo\n",
    "import mysql.connector\n",
    "from bson import json_util"
   ]
  },
  {
   "cell_type": "code",
   "execution_count": 25,
   "id": "ff0687b0-e299-4026-8e20-f83ce340830b",
   "metadata": {},
   "outputs": [
    {
     "name": "stdout",
     "output_type": "stream",
     "text": [
      "Data Loaded in WareHouse Successfully\n"
     ]
    }
   ],
   "source": [
    "# this is simple ETL process\n",
    "\n",
    "def ETL():\n",
    "    extracted_data=Extract()\n",
    "    if(len(extracted_data)>0):\n",
    "       transfromed_data = Transform(extracted_data)\n",
    "       if(len(transfromed_data)>0):\n",
    "            Load(transfromed_data)\n",
    "    \n",
    "def Extract ():\n",
    "    try:\n",
    "        mongodb = pymongo.MongoClient(\"mongodb://localhost:27017/\")\n",
    "        database=mongodb['amazon']\n",
    "        collection=database['Sales']\n",
    "        datas=collection.find()\n",
    "        datas=json_util.dumps(datas)\n",
    "        datas= json_util.loads(datas)\n",
    "        return datas\n",
    "    except Exception as e:\n",
    "        print(\"Error\")\n",
    "def Transform(data):\n",
    "    data=Extract()\n",
    "    updateddata=[]\n",
    "    for i in range(0,len(data)):\n",
    "        updated_data={}\n",
    "        updated_data['product_name']=data[i]['product_name']\n",
    "        updated_data['category']=data[i]['category']\n",
    "        updated_data['rating']=data[i]['rating']\n",
    "        updated_data['rating_count']=data[i]['rating_count']\n",
    "        updated_data['actual_price']=data[i]['actual_price']\n",
    "        updateddata.append(updated_data)\n",
    "    # updateddata=json_util.loads(updateddata)\n",
    "    return updateddata\n",
    "def Load(data):\n",
    "    mydb=mysql.connector.connect(\n",
    "        host=\"localhost\",\n",
    "        user=\"root\",\n",
    "        password=\"Friday\",\n",
    "        database=\"ETL_process\",\n",
    "    )\n",
    "    mycursor=mydb.cursor()\n",
    "    # Insert data into database\n",
    "    if(len(data)>0):\n",
    "        for record in data:\n",
    "            sql=\"INSERT INTO ETL_process (ProductName,Category,Rating,RatingCount,ActualPrice) VALUES (%s,%s,%s,%s,%s)\"\n",
    "            val=(record['product_name'],record['category'],record['rating'],record['rating_count'],record['actual_price'])\n",
    "            # print(record['product_name'])\n",
    "            mycursor.execute(sql, val)\n",
    "        #Commit changes to database\n",
    "        mydb.commit()\n",
    "        # Close connection to database\n",
    "        mydb.close()\n",
    "        print(\"Data Loaded in WareHouse Successfully\")\n",
    "        \n",
    "    else:\n",
    "        print(\"Data is empty\")\n",
    "    # pass    \n",
    "# Load()\n",
    "ETL()\n"
   ]
  },
  {
   "cell_type": "code",
   "execution_count": null,
   "id": "e0f8d671-1fdc-49ef-87e0-260d7960fc98",
   "metadata": {},
   "outputs": [],
   "source": []
  }
 ],
 "metadata": {
  "kernelspec": {
   "display_name": "Python 3 (ipykernel)",
   "language": "python",
   "name": "python3"
  },
  "language_info": {
   "codemirror_mode": {
    "name": "ipython",
    "version": 3
   },
   "file_extension": ".py",
   "mimetype": "text/x-python",
   "name": "python",
   "nbconvert_exporter": "python",
   "pygments_lexer": "ipython3",
   "version": "3.8.5"
  }
 },
 "nbformat": 4,
 "nbformat_minor": 5
}
